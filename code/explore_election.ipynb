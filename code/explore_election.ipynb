{
 "cells": [
  {
   "cell_type": "markdown",
   "metadata": {},
   "source": [
    "Election projection data from fivethirtyeight.com (source: https://github.com/fivethirtyeight/data/tree/master/house-forecast-2018)\n",
    "\n",
    "Their data was produced by analyzing polling results on a daily basis to construct a likely share of the vote for each candidate in each Congressional district, for the time period from August up until Election Day.\n",
    "\n"
   ]
  },
  {
   "cell_type": "code",
   "execution_count": 1,
   "metadata": {},
   "outputs": [],
   "source": [
    "%matplotlib inline\n",
    "\n",
    "import pandas as pd\n",
    "import matplotlib.pyplot as plt\n",
    "import numpy as np\n"
   ]
  },
  {
   "cell_type": "code",
   "execution_count": 2,
   "metadata": {},
   "outputs": [],
   "source": [
    "df = pd.read_csv('house_district_forecast.csv')"
   ]
  },
  {
   "cell_type": "markdown",
   "metadata": {},
   "source": [
    "# What data is in the file?"
   ]
  },
  {
   "cell_type": "code",
   "execution_count": 3,
   "metadata": {},
   "outputs": [
    {
     "data": {
      "text/plain": [
       "Index(['forecastdate', 'state', 'district', 'special', 'candidate', 'party',\n",
       "       'incumbent', 'model', 'win_probability', 'voteshare', 'p10_voteshare',\n",
       "       'p90_voteshare'],\n",
       "      dtype='object')"
      ]
     },
     "execution_count": 3,
     "metadata": {},
     "output_type": "execute_result"
    }
   ],
   "source": [
    "df.columns"
   ]
  },
  {
   "cell_type": "markdown",
   "metadata": {},
   "source": [
    "# fivethirtyeight.com's projections for Pramila Jayapal's vote percentage each day leading up to the election, starting in August"
   ]
  },
  {
   "cell_type": "code",
   "execution_count": 4,
   "metadata": {},
   "outputs": [
    {
     "data": {
      "text/plain": [
       "[<matplotlib.lines.Line2D at 0x7f792585ef98>]"
      ]
     },
     "execution_count": 4,
     "metadata": {},
     "output_type": "execute_result"
    },
    {
     "data": {
      "image/png": "[encoded data removed]",
      "text/plain": [
       "<Figure size 432x288 with 1 Axes>"
      ]
     },
     "metadata": {},
     "output_type": "display_data"
    }
   ],
   "source": [
    "plt.plot(range(98), df.voteshare[np.logical_and(df.candidate=='Pramila Jayapal', df.model=='classic')])"
   ]
  },
  {
   "cell_type": "markdown",
   "metadata": {},
   "source": [
    "# Everyone named \"John\" who ran for Congress this year"
   ]
  },
  {
   "cell_type": "code",
   "execution_count": 5,
   "metadata": {},
   "outputs": [
    {
     "name": "stdout",
     "output_type": "stream",
     "text": [
      "['John Garamendi' 'John Fitzgerald' 'John Briscoe' 'John B. Larson'\n",
      " 'John Rutherford' 'John Lewis' 'John D. Elleson' 'John Shimkus'\n",
      " 'John A. Yarmuth' 'John Hugo' 'John P. Sarbanes' 'John Walsh'\n",
      " 'John Moolenaar' 'John J. McCann Jr.' 'John R. Muniz' 'John Faso'\n",
      " 'John Katko' 'John Verbeek' 'John Chrin' 'John Joyce' 'John Rose'\n",
      " 'John Ratcliffe' 'John Culberson' 'John Carter' 'John R. Curtis']\n"
     ]
    }
   ],
   "source": [
    "print(df[df.candidate.str.contains(\"John \")].candidate.unique())"
   ]
  },
  {
   "cell_type": "markdown",
   "metadata": {},
   "source": [
    "# Projected average proportion of the vote going to each party on the start of Election Day"
   ]
  },
  {
   "cell_type": "code",
   "execution_count": 6,
   "metadata": {},
   "outputs": [
    {
     "name": "stdout",
     "output_type": "stream",
     "text": [
      "Republican\t 46.184394319131165\n",
      "Democrat\t 54.6767647058824\n"
     ]
    }
   ],
   "source": [
    "print('Republican\\t', df.voteshare[np.logical_and(df.forecastdate == '2018-11-06', df.party=='R')].mean())\n",
    "print('Democrat\\t', df.voteshare[np.logical_and(df.forecastdate == '2018-11-06', df.party=='D')].mean())"
   ]
  },
  {
   "cell_type": "markdown",
   "metadata": {},
   "source": [
    "# All the other parties that had candidates on the ballot"
   ]
  },
  {
   "cell_type": "code",
   "execution_count": 7,
   "metadata": {},
   "outputs": [
    {
     "data": {
      "text/plain": [
       "array(['R', 'D', nan, 'LIB', 'G', 'I', 'GRE', 'NPA', 'IND',\n",
       "       'US Taxpayers', 'Working Class', 'Legal Marijuana Now',\n",
       "       'Independence Party', 'REF', 'CON', 'Reform Party', 'WOF', 'IPO',\n",
       "       'L', 'AME', 'DPD', 'Mountain', \"Women's Equality Party\"],\n",
       "      dtype=object)"
      ]
     },
     "execution_count": 7,
     "metadata": {},
     "output_type": "execute_result"
    }
   ],
   "source": [
    "df.party.unique()"
   ]
  },
  {
   "cell_type": "markdown",
   "metadata": {},
   "source": [
    "# The non-Republican, non-Democrat, who had the highest projected vote percentage on Election Day"
   ]
  },
  {
   "cell_type": "code",
   "execution_count": 8,
   "metadata": {},
   "outputs": [
    {
     "data": {
      "text/plain": [
       "34.46"
      ]
     },
     "execution_count": 8,
     "metadata": {},
     "output_type": "execute_result"
    }
   ],
   "source": [
    "df.voteshare[np.logical_and(df.party != 'D', df.party != 'R')].max()"
   ]
  },
  {
   "cell_type": "code",
   "execution_count": 9,
   "metadata": {},
   "outputs": [
    {
     "data": {
      "text/plain": [
       "'Irving Harris'"
      ]
     },
     "execution_count": 9,
     "metadata": {},
     "output_type": "execute_result"
    }
   ],
   "source": [
    "df[np.logical_and(df.voteshare == 34.46, np.logical_and(df.party != 'R', df.party != 'D'))].candidate.unique()[0]"
   ]
  }
 ],
 "metadata": {
  "kernelspec": {
   "display_name": "Python 3",
   "language": "python",
   "name": "python3"
  },
  "language_info": {
   "codemirror_mode": {
    "name": "ipython",
    "version": 3
   },
   "file_extension": ".py",
   "mimetype": "text/x-python",
   "name": "python",
   "nbconvert_exporter": "python",
   "pygments_lexer": "ipython3",
   "version": "3.6.5"
  }
 },
 "nbformat": 4,
 "nbformat_minor": 2
}
